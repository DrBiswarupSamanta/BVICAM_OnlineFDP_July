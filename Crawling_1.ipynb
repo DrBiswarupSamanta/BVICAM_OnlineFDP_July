{
 "cells": [
  {
   "cell_type": "code",
   "execution_count": 2,
   "metadata": {},
   "outputs": [],
   "source": [
    "import urllib.request as url\n",
    "import bs4"
   ]
  },
  {
   "cell_type": "code",
   "execution_count": 4,
   "metadata": {},
   "outputs": [],
   "source": [
    "#!pip install bs4"
   ]
  },
  {
   "cell_type": "code",
   "execution_count": 5,
   "metadata": {},
   "outputs": [
    {
     "data": {
      "text/plain": [
       "<http.client.HTTPResponse at 0x1ea429ca3c8>"
      ]
     },
     "execution_count": 5,
     "metadata": {},
     "output_type": "execute_result"
    }
   ],
   "source": [
    "url.urlopen(\"https://www.flipkart.com/redmi-note-9-pro-aurora-blue-64-gb/product-reviews/itma84d60532d415?pid=MOBFPZXUDUPUKZF6&lid=LSTMOBFPZXUDUPUKZF6XQSQCB&marketplace=FLIPKART\")"
   ]
  },
  {
   "cell_type": "code",
   "execution_count": 6,
   "metadata": {},
   "outputs": [],
   "source": [
    "# make http req\n",
    "response = url.urlopen(\"https://www.flipkart.com/redmi-note-9-pro-aurora-blue-64-gb/product-reviews/itma84d60532d415?pid=MOBFPZXUDUPUKZF6&lid=LSTMOBFPZXUDUPUKZF6XQSQCB&marketplace=FLIPKART\")\n",
    "# and gets the http response in return"
   ]
  },
  {
   "cell_type": "code",
   "execution_count": 7,
   "metadata": {},
   "outputs": [],
   "source": [
    "page = bs4.BeautifulSoup(response)"
   ]
  },
  {
   "cell_type": "code",
   "execution_count": 8,
   "metadata": {},
   "outputs": [
    {
     "data": {
      "text/plain": [
       "<div class=\"o9Xx3p _1_odLJ\">Redmi Note 9 Pro (Aurora Blue, 64 GB) Reviews</div>"
      ]
     },
     "execution_count": 8,
     "metadata": {},
     "output_type": "execute_result"
    }
   ],
   "source": [
    "page.find('div', class_='o9Xx3p _1_odLJ')"
   ]
  },
  {
   "cell_type": "code",
   "execution_count": 9,
   "metadata": {},
   "outputs": [
    {
     "name": "stdout",
     "output_type": "stream",
     "text": [
      "Redmi Note 9 Pro (Aurora Blue, 64 GB) Reviews\n"
     ]
    }
   ],
   "source": [
    "title = page.find('div', class_='o9Xx3p _1_odLJ')\n",
    "print(title.text)"
   ]
  },
  {
   "cell_type": "code",
   "execution_count": 11,
   "metadata": {},
   "outputs": [],
   "source": [
    "review = page.find('p', class_='_2xg6Ul')"
   ]
  },
  {
   "cell_type": "code",
   "execution_count": 12,
   "metadata": {},
   "outputs": [
    {
     "name": "stdout",
     "output_type": "stream",
     "text": [
      "Great product\n"
     ]
    }
   ],
   "source": [
    "print(review.text)"
   ]
  },
  {
   "cell_type": "code",
   "execution_count": 13,
   "metadata": {},
   "outputs": [],
   "source": [
    "review = page.find_all('p', class_='_2xg6Ul')"
   ]
  },
  {
   "cell_type": "code",
   "execution_count": 14,
   "metadata": {},
   "outputs": [
    {
     "data": {
      "text/plain": [
       "10"
      ]
     },
     "execution_count": 14,
     "metadata": {},
     "output_type": "execute_result"
    }
   ],
   "source": [
    "len(review)"
   ]
  },
  {
   "cell_type": "code",
   "execution_count": 17,
   "metadata": {},
   "outputs": [
    {
     "name": "stdout",
     "output_type": "stream",
     "text": [
      "Great product\n",
      "Must buy!\n",
      "Super!\n",
      "Terrific\n",
      "Worth every penny\n",
      "Terrific purchase\n",
      "Good quality product\n",
      "Perfect product!\n",
      "Terrific\n",
      "Best in the market!\n"
     ]
    }
   ],
   "source": [
    "for rev in review:\n",
    "    print(rev.text)"
   ]
  },
  {
   "cell_type": "code",
   "execution_count": null,
   "metadata": {},
   "outputs": [],
   "source": []
  },
  {
   "cell_type": "code",
   "execution_count": null,
   "metadata": {},
   "outputs": [],
   "source": []
  },
  {
   "cell_type": "code",
   "execution_count": 20,
   "metadata": {},
   "outputs": [
    {
     "name": "stdout",
     "output_type": "stream",
     "text": [
      "**************************************************\n",
      "Great product\n",
      "Must buy!\n",
      "Super!\n",
      "Terrific\n",
      "Worth every penny\n",
      "Terrific purchase\n",
      "Good quality product\n",
      "Perfect product!\n",
      "Terrific\n",
      "Best in the market!\n",
      "**************************************************\n",
      "**************************************************\n",
      "Great product\n",
      "Terrific purchase\n",
      "Great product\n",
      "Super!\n",
      "Just wow!\n",
      "Value-for-money\n",
      "Good quality product\n",
      "Good quality product\n",
      "Great product\n",
      "Mind-blowing purchase\n",
      "**************************************************\n",
      "**************************************************\n",
      "Classy product\n",
      "Worth the money\n",
      "Really Nice\n",
      "Simply awesome\n",
      "Excellent\n",
      "Perfect product!\n",
      "Wonderful\n",
      "Absolute rubbish!\n",
      "Wonderful\n",
      "Fabulous!\n",
      "**************************************************\n"
     ]
    }
   ],
   "source": [
    "for i in range(1,4):\n",
    "    print(\"*\" * 50)\n",
    "    path = \"https://www.flipkart.com/redmi-note-9-pro-aurora-blue-64-gb/product-reviews/itma84d60532d415?pid=MOBFPZXUDUPUKZF6&lid=LSTMOBFPZXUDUPUKZF6XQSQCB&marketplace=FLIPKART&page={}\".format(i)\n",
    "    response = url.urlopen(path)\n",
    "    page = bs4.BeautifulSoup(response)\n",
    "    reviews = page.find_all('p', class_='_2xg6Ul')\n",
    "    for j in reviews:\n",
    "        print(j.text)\n",
    "    print(\"*\" * 50)"
   ]
  },
  {
   "cell_type": "code",
   "execution_count": 24,
   "metadata": {},
   "outputs": [],
   "source": [
    "path = \"https://www.imdb.com/title/tt2631186/?ref_=nv_sr_srsg_0\"\n",
    "response = url.urlopen(path)\n",
    "page = bs4.BeautifulSoup(response)\n",
    "title = page.find('div', class_='title_wrapper')"
   ]
  },
  {
   "cell_type": "code",
   "execution_count": 26,
   "metadata": {},
   "outputs": [
    {
     "data": {
      "text/plain": [
       "'\\nBãhubali: The Beginning\\xa0(2015) \\n\\n                    UA\\n    | \\n                        2h 39min\\n                    \\n|\\nAction, \\nDrama\\n|\\n10 July 2015 (India)\\n \\n'"
      ]
     },
     "execution_count": 26,
     "metadata": {},
     "output_type": "execute_result"
    }
   ],
   "source": [
    "title.text"
   ]
  },
  {
   "cell_type": "code",
   "execution_count": 28,
   "metadata": {},
   "outputs": [],
   "source": [
    "t = title.text.split()"
   ]
  },
  {
   "cell_type": "code",
   "execution_count": 29,
   "metadata": {},
   "outputs": [
    {
     "data": {
      "text/plain": [
       "'Bãhubali: The Beginning (2015) UA | 2h 39min | Action, Drama | 10 July 2015 (India)'"
      ]
     },
     "execution_count": 29,
     "metadata": {},
     "output_type": "execute_result"
    }
   ],
   "source": [
    "' '.join(t)"
   ]
  },
  {
   "cell_type": "code",
   "execution_count": null,
   "metadata": {},
   "outputs": [],
   "source": []
  }
 ],
 "metadata": {
  "kernelspec": {
   "display_name": "Python 3",
   "language": "python",
   "name": "python3"
  },
  "language_info": {
   "codemirror_mode": {
    "name": "ipython",
    "version": 3
   },
   "file_extension": ".py",
   "mimetype": "text/x-python",
   "name": "python",
   "nbconvert_exporter": "python",
   "pygments_lexer": "ipython3",
   "version": "3.7.4"
  }
 },
 "nbformat": 4,
 "nbformat_minor": 4
}
